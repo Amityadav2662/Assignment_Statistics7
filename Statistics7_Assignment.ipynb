{
 "cells": [
  {
   "cell_type": "code",
   "execution_count": 3,
   "id": "ec9b8a17-88a5-4a5e-af65-544267810a9c",
   "metadata": {},
   "outputs": [
    {
     "name": "stdout",
     "output_type": "stream",
     "text": [
      "The 95% confidence interval for a sample data is 48.614096175650324 to 51.385903824349676\n"
     ]
    }
   ],
   "source": [
    "# Q1. Calculate the 95% confidence interval for a sample of data with a mean of 50 and a standard deviation\n",
    "# of 5 using Python. Interpret the results.\n",
    "\n",
    "import scipy.stats as stat\n",
    "import math \n",
    "\n",
    "def calculate(sample_mean,sample_stand_dev,sample_size,confidence_interval):\n",
    "    alpha = 1 - confidence_interval\n",
    "    \n",
    "    z_critical = stat.norm.ppf(1 - alpha/2)\n",
    "    margin_of_error = z_critical * (sample_stand_dev/math.sqrt(sample_size))\n",
    "    \n",
    "    lower_bound = sample_mean - margin_of_error\n",
    "    upper_bound = sample_mean + margin_of_error\n",
    "    \n",
    "    return lower_bound,upper_bound\n",
    "\n",
    "sample_mean = 50\n",
    "sample_stand_dev = 5\n",
    "confidence_interval = 0.95\n",
    "sample_size = 50\n",
    "\n",
    "lower_bound,upper_bound = calculate(sample_mean,sample_stand_dev,sample_size,confidence_interval)\n",
    "print(\"The 95% confidence interval for a sample data is {} to {}\".format(lower_bound,upper_bound))"
   ]
  },
  {
   "cell_type": "code",
   "execution_count": 11,
   "id": "47bbc1ef-4eac-4182-a141-d54d91f634ef",
   "metadata": {},
   "outputs": [],
   "source": [
    "# Q2. Conduct a chi-square goodness of fit test to determine if the distribution of colors of M&Ms in a bag\n",
    "# matches the expected distribution of 20% blue, 20% orange, 20% green, 10% yellow, 10% red, and 20%\n",
    "# brown. Use Python to perform the test with a significance level of 0.05.\n",
    "import scipy.stats as stat\n",
    "\n",
    "observed_color = [25,15,20,10,10,20]\n",
    "Excepted_color = [0.20,0.20,0.20,0.10,0.10,0.20]\n",
    "significance_value = 0.05"
   ]
  },
  {
   "cell_type": "code",
   "execution_count": 12,
   "id": "8d91b744-4e95-4781-8379-bd610e41f755",
   "metadata": {},
   "outputs": [
    {
     "data": {
      "text/plain": [
       "100"
      ]
     },
     "execution_count": 12,
     "metadata": {},
     "output_type": "execute_result"
    }
   ],
   "source": [
    "total = sum(observed_color)\n",
    "total"
   ]
  },
  {
   "cell_type": "code",
   "execution_count": 13,
   "id": "04baf9b7-c465-4780-909c-3c59af24d99c",
   "metadata": {},
   "outputs": [
    {
     "data": {
      "text/plain": [
       "[20.0, 20.0, 20.0, 10.0, 10.0, 20.0]"
      ]
     },
     "execution_count": 13,
     "metadata": {},
     "output_type": "execute_result"
    }
   ],
   "source": [
    "excepted_color = [i * total for i in Excepted_color]\n",
    "excepted_color"
   ]
  },
  {
   "cell_type": "code",
   "execution_count": 16,
   "id": "de505f96-de44-4587-ba72-f08a8c2654b8",
   "metadata": {},
   "outputs": [
    {
     "data": {
      "text/plain": [
       "(2.5, 0.7764950711233227)"
      ]
     },
     "execution_count": 16,
     "metadata": {},
     "output_type": "execute_result"
    }
   ],
   "source": [
    "chisquare_statistic,pvalue = stat.chisquare(observed_color,excepted_color)\n",
    "chisquare_statistic,pvalue"
   ]
  },
  {
   "cell_type": "code",
   "execution_count": 25,
   "id": "28d24dca-b30f-4141-b937-5bacdb8693fc",
   "metadata": {},
   "outputs": [
    {
     "data": {
      "text/plain": [
       "11.070497693516351"
      ]
     },
     "execution_count": 25,
     "metadata": {},
     "output_type": "execute_result"
    }
   ],
   "source": [
    "dof = len(observed_color) - 1\n",
    "critical_value = stat.chi2.ppf(1-significance_value,dof)\n",
    "critical_value"
   ]
  },
  {
   "cell_type": "code",
   "execution_count": 26,
   "id": "8f5cf955-69a4-4a9c-a30f-d7459a30e363",
   "metadata": {},
   "outputs": [
    {
     "name": "stdout",
     "output_type": "stream",
     "text": [
      "We fail to reject the null hypothesis\n"
     ]
    }
   ],
   "source": [
    "if chisquare_statistic > critical_value:\n",
    "    print(\"We reject the null hypothesis\")\n",
    "else:\n",
    "    print(\"We fail to reject the null hypothesis\")"
   ]
  },
  {
   "cell_type": "code",
   "execution_count": 27,
   "id": "8fe14e48-a938-4df4-81d9-07260d2667dd",
   "metadata": {},
   "outputs": [],
   "source": [
    "# Q3. Use Python to calculate the chi-square statistic and p-value for a contingency table with the following\n",
    "# data:\n",
    "#            Group A  Group B \n",
    "# Outcome 1    20       15\n",
    "# Outcome 2    10       25\n",
    "# Outcome 3    15       20\n",
    "# \n",
    "# Interpret the results of the test.\n",
    "\n",
    "import scipy.stats as stat\n",
    "observed_data = [[20,15],[10,25],[15,20]]"
   ]
  },
  {
   "cell_type": "code",
   "execution_count": 29,
   "id": "681b43f6-4e3e-4e6d-b4f7-fafa7a38193f",
   "metadata": {},
   "outputs": [],
   "source": [
    "chisquare_stat,pvalue,dof,expected_data = stat.chi2_contingency(observed_data)"
   ]
  },
  {
   "cell_type": "code",
   "execution_count": 30,
   "id": "48a6b570-f391-4421-8480-84ed55af884e",
   "metadata": {},
   "outputs": [
    {
     "data": {
      "text/plain": [
       "5.833333333333334"
      ]
     },
     "execution_count": 30,
     "metadata": {},
     "output_type": "execute_result"
    }
   ],
   "source": [
    "chisquare_stat"
   ]
  },
  {
   "cell_type": "code",
   "execution_count": 31,
   "id": "e8b75553-9780-4d4a-8b39-38556629001f",
   "metadata": {},
   "outputs": [
    {
     "data": {
      "text/plain": [
       "0.05411376622282158"
      ]
     },
     "execution_count": 31,
     "metadata": {},
     "output_type": "execute_result"
    }
   ],
   "source": [
    "pvalue"
   ]
  },
  {
   "cell_type": "code",
   "execution_count": 32,
   "id": "a12f44c9-4569-49aa-86d6-8dfb564a7614",
   "metadata": {},
   "outputs": [
    {
     "data": {
      "text/plain": [
       "2"
      ]
     },
     "execution_count": 32,
     "metadata": {},
     "output_type": "execute_result"
    }
   ],
   "source": [
    "dof"
   ]
  },
  {
   "cell_type": "code",
   "execution_count": 33,
   "id": "949d8c11-95a2-46dc-b1f5-98814c6b1ce0",
   "metadata": {},
   "outputs": [
    {
     "data": {
      "text/plain": [
       "array([[15., 20.],\n",
       "       [15., 20.],\n",
       "       [15., 20.]])"
      ]
     },
     "execution_count": 33,
     "metadata": {},
     "output_type": "execute_result"
    }
   ],
   "source": [
    "expected_data"
   ]
  },
  {
   "cell_type": "code",
   "execution_count": 77,
   "id": "f5c804f2-7513-4426-a603-353f0e7e600f",
   "metadata": {},
   "outputs": [
    {
     "name": "stdout",
     "output_type": "stream",
     "text": [
      "The 95% CI for the true proportion of individuals in the population who smoke is 44.83337367167094 to 75.16662632832906\n"
     ]
    }
   ],
   "source": [
    "# Q4. A study of the prevalence of smoking in a population of 500 individuals found that 60 individuals\n",
    "# smoked. Use Python to calculate the 95% confidence interval for the true proportion of individuals in the\n",
    "# population who smoke.\n",
    "\n",
    "import scipy.stats as stat\n",
    "import math\n",
    "\n",
    "def calculate_proportion(sample_size,sample_proportion,confidence_interval):\n",
    "    significance_value = 1 - confidence_interval\n",
    "    \n",
    "    z_critical = stat.norm.ppf(1-significance_value/2)\n",
    "    \n",
    "    margin_of_proportion = z_critical * (math.sqrt(sample_proportion * 1- sample_proportion/sample_size))\n",
    "\n",
    "    lower_bound = sample_proportion - margin_of_proportion\n",
    "    upper_bound = sample_proportion + margin_of_proportion\n",
    "    \n",
    "    return lower_bound,upper_bound\n",
    "\n",
    "sample_size = 500\n",
    "sample_proportion = 60\n",
    "confidence_interval = 0.95\n",
    "lower_bound,upper_bound = calculate_proportion(sample_size,sample_proportion,confidence_interval)\n",
    "print(\"The 95% CI for the true proportion of individuals in the population who smoke is {} to {}\".format(lower_bound,upper_bound))"
   ]
  },
  {
   "cell_type": "code",
   "execution_count": 45,
   "id": "61af0e8f-8766-4f7f-a154-8c47c4516dc8",
   "metadata": {},
   "outputs": [
    {
     "name": "stdout",
     "output_type": "stream",
     "text": [
      "The 90% confidence interval for a sample data is 72.20859083117598 to 77.79140916882402\n"
     ]
    }
   ],
   "source": [
    "# Q5. Calculate the 90% confidence interval for a sample of data with a mean of 75 and a standard deviation\n",
    "# of 12 using Python. Interpret the results.\n",
    "\n",
    "import scipy.stats as stat\n",
    "import math \n",
    "\n",
    "def calculate(sample_mean,sample_stand_dev,sample_size,confidence_interval):\n",
    "    alpha = 1 - confidence_interval\n",
    "    \n",
    "    z_critical = stat.norm.ppf(1 - alpha/2)\n",
    "    margin_of_error = z_critical * (sample_stand_dev/math.sqrt(sample_size))\n",
    "    \n",
    "    lower_bound = sample_mean - margin_of_error\n",
    "    upper_bound = sample_mean + margin_of_error\n",
    "    \n",
    "    return lower_bound,upper_bound\n",
    "\n",
    "sample_mean = 75\n",
    "sample_stand_dev = 12\n",
    "confidence_interval = 0.90\n",
    "sample_size = 50\n",
    "\n",
    "lower_bound,upper_bound = calculate(sample_mean,sample_stand_dev,sample_size,confidence_interval)\n",
    "print(\"The 90% confidence interval for a sample data is {} to {}\".format(lower_bound,upper_bound))"
   ]
  },
  {
   "cell_type": "code",
   "execution_count": 71,
   "id": "8bc8508f-262c-490d-a4d9-ef320962a258",
   "metadata": {},
   "outputs": [
    {
     "data": {
      "image/png": "[encoded data removed]",
      "text/plain": [
       "<Figure size 640x480 with 1 Axes>"
      ]
     },
     "metadata": {},
     "output_type": "display_data"
    }
   ],
   "source": [
    "# Q6. Use Python to plot the chi-square distribution with 10 degrees of freedom. Label the axes and shade the\n",
    "# area corresponding to a chi-square statistic of 15.\n",
    "\n",
    "import matplotlib.pyplot as plt\n",
    "import scipy.stats as stat\n",
    "import numpy as np\n",
    "\n",
    "dof = 10\n",
    "chisquare_statistic = 15\n",
    "x = np.linspace(0,30,1000)\n",
    "\n",
    "chi_square = stat.chi2.pdf(x,dof)\n",
    "plt.plot(x,chi_square)\n",
    "plt.fill_between(x,chi_square, where=(x>=chisquare_statistic),color='orange',alpha=0.6)\n",
    "plt.title(\"Chi Square Plot\")\n",
    "plt.xlabel(\"Value\")\n",
    "plt.ylabel(\"frequency\")\n",
    "plt.grid(True)\n",
    "plt.show()"
   ]
  },
  {
   "cell_type": "code",
   "execution_count": 76,
   "id": "f1387226-77f8-4e9a-8d35-4d648a7f8ae8",
   "metadata": {},
   "outputs": [
    {
     "name": "stdout",
     "output_type": "stream",
     "text": [
      "The 99% CI for the true proportion of people in the population who prefer Coke. 461.2914308954945 to 578.7085691045055\n"
     ]
    }
   ],
   "source": [
    "# Q7. A random sample of 1000 people was asked if they preferred Coke or Pepsi. Of the sample, 520\n",
    "# preferred Coke. Calculate a 99% confidence interval for the true proportion of people in the population who\n",
    "# prefer Coke.\n",
    "import scipy.stats as stat\n",
    "import math\n",
    "\n",
    "def calculate_proportion(sample_size,sample_proportion,confidence_interval):\n",
    "    significance_value = 1 - confidence_interval\n",
    "    \n",
    "    z_critical = stat.norm.ppf(1-significance_value/2)\n",
    "    \n",
    "    margin_of_proportion = z_critical * (math.sqrt(sample_proportion * 1- sample_proportion/sample_size))\n",
    "\n",
    "    lower_bound = sample_proportion - margin_of_proportion\n",
    "    upper_bound = sample_proportion + margin_of_proportion\n",
    "    \n",
    "    return lower_bound,upper_bound\n",
    "\n",
    "sample_size = 1000\n",
    "sample_proportion = 520\n",
    "confidence_interval = 0.99\n",
    "lower_bound,upper_bound = calculate_proportion(sample_size,sample_proportion,confidence_interval)\n",
    "print(\"The 99% CI for the true proportion of people in the population who prefer Coke. {} to {}\".format(lower_bound,upper_bound))"
   ]
  },
  {
   "cell_type": "code",
   "execution_count": 105,
   "id": "cdcfb01e-5cf8-4ec9-9bba-56125e22556c",
   "metadata": {},
   "outputs": [],
   "source": [
    "# Q8. A researcher hypothesizes that a coin is biased towards tails. They flip the coin 100 times and observe\n",
    "# 45 tails. Conduct a chi-square goodness of fit test to determine if the observed frequencies match the\n",
    "# expected frequencies of a fair coin. Use a significance level of 0.05.\n",
    "\n",
    "import scipy.stats as stat\n",
    "total_flip = 100\n",
    "observe_tail = 45"
   ]
  },
  {
   "cell_type": "code",
   "execution_count": 108,
   "id": "4882ffb8-f199-486e-9dde-6a7efea84b02",
   "metadata": {},
   "outputs": [],
   "source": [
    "excpected_tail = total_flip/2\n",
    "excpected_head = total_flip/2"
   ]
  },
  {
   "cell_type": "code",
   "execution_count": 112,
   "id": "5dd648be-3138-4693-81e8-799964f84af8",
   "metadata": {},
   "outputs": [
    {
     "name": "stdout",
     "output_type": "stream",
     "text": [
      "[45, 55]\n",
      "[50.0, 50.0]\n"
     ]
    }
   ],
   "source": [
    "observed_frequency = [observe_tail,total_flip - observe_tail]\n",
    "excpected_frequency = [excpected_tail,excpected_head] \n",
    "print(observed_frequency)\n",
    "print(excpected_frequency)"
   ]
  },
  {
   "cell_type": "code",
   "execution_count": 113,
   "id": "db87b9b5-231a-47e4-9cc6-7d20226250c3",
   "metadata": {},
   "outputs": [
    {
     "data": {
      "text/plain": [
       "(1.0, 0.31731050786291115)"
      ]
     },
     "execution_count": 113,
     "metadata": {},
     "output_type": "execute_result"
    }
   ],
   "source": [
    "chisquare_stats,pvalue = stat.chisquare(observed_frequency,excpected_frequency)\n",
    "chisquare_stats,pvalue"
   ]
  },
  {
   "cell_type": "code",
   "execution_count": 115,
   "id": "74e5a2e6-b32f-4f22-8cfd-51ab370e17a6",
   "metadata": {},
   "outputs": [
    {
     "data": {
      "text/plain": [
       "3.841458820694124"
      ]
     },
     "execution_count": 115,
     "metadata": {},
     "output_type": "execute_result"
    }
   ],
   "source": [
    "significance_value = 0.05\n",
    "dof = len(observed_frequency) - 1\n",
    "critical_value = stat.chi2.ppf(1-significance_value,dof)\n",
    "critical_value"
   ]
  },
  {
   "cell_type": "code",
   "execution_count": 116,
   "id": "edbacc38-ac58-48e5-95d9-b5616bc85ca2",
   "metadata": {},
   "outputs": [
    {
     "name": "stdout",
     "output_type": "stream",
     "text": [
      "We fail to reject the null hypothesis\n"
     ]
    }
   ],
   "source": [
    "if chisquare_stats > critical_value:\n",
    "    print(\"We reject the null hypothesis\")\n",
    "else:\n",
    "    print(\"We fail to reject the null hypothesis\")"
   ]
  },
  {
   "cell_type": "code",
   "execution_count": 117,
   "id": "229fb798-1a1b-458c-89e8-485eea0ec995",
   "metadata": {},
   "outputs": [],
   "source": [
    "# Q9. A study was conducted to determine if there is an association between smoking status (smoker or\n",
    "# non-smoker) and lung cancer diagnosis (yes or no). The results are shown in the contingency table below.\n",
    "# Conduct a chi-square test for independence to determine if there is a significant association between\n",
    "# smoking status and lung cancer diagnosis.\n",
    "# Use a significance level of 0.05. \n",
    "#              Lung Cancer: Yes  Lung Cancer: No\n",
    "# \n",
    "# Smoker            60             140\n",
    "# Non-smoker        30             170\n",
    "\n",
    "import scipy.stats as stat\n",
    "observed_data = [[60,140],[30,170]]"
   ]
  },
  {
   "cell_type": "code",
   "execution_count": 119,
   "id": "fe7b0a2b-6eae-4ca1-871f-9a7df67a144c",
   "metadata": {},
   "outputs": [],
   "source": [
    "chi_stats,pvalue,dof,expected_data = stat.chi2_contingency(observed_data)"
   ]
  },
  {
   "cell_type": "code",
   "execution_count": 120,
   "id": "17cc7c8a-b741-4aa4-b42e-703b221bcfcf",
   "metadata": {},
   "outputs": [
    {
     "data": {
      "text/plain": [
       "12.057347670250895"
      ]
     },
     "execution_count": 120,
     "metadata": {},
     "output_type": "execute_result"
    }
   ],
   "source": [
    "chi_stats"
   ]
  },
  {
   "cell_type": "code",
   "execution_count": 121,
   "id": "d946d08c-91be-4974-accf-5492318b3e3a",
   "metadata": {},
   "outputs": [
    {
     "data": {
      "text/plain": [
       "0.0005158863863703744"
      ]
     },
     "execution_count": 121,
     "metadata": {},
     "output_type": "execute_result"
    }
   ],
   "source": [
    "pvalue"
   ]
  },
  {
   "cell_type": "code",
   "execution_count": 122,
   "id": "96230fff-8a2d-47b1-a881-fb62de21a832",
   "metadata": {},
   "outputs": [
    {
     "data": {
      "text/plain": [
       "1"
      ]
     },
     "execution_count": 122,
     "metadata": {},
     "output_type": "execute_result"
    }
   ],
   "source": [
    "dof"
   ]
  },
  {
   "cell_type": "code",
   "execution_count": 123,
   "id": "16ca6ea7-bc03-4a13-8b52-0c3e961895a4",
   "metadata": {},
   "outputs": [
    {
     "data": {
      "text/plain": [
       "array([[ 45., 155.],\n",
       "       [ 45., 155.]])"
      ]
     },
     "execution_count": 123,
     "metadata": {},
     "output_type": "execute_result"
    }
   ],
   "source": [
    "expected_data "
   ]
  },
  {
   "cell_type": "code",
   "execution_count": 125,
   "id": "91f4e9a7-0dd0-46b8-9ad2-e0334b9a8c4f",
   "metadata": {},
   "outputs": [
    {
     "data": {
      "text/plain": [
       "3.841458820694124"
      ]
     },
     "execution_count": 125,
     "metadata": {},
     "output_type": "execute_result"
    }
   ],
   "source": [
    "significance_value = 0.05\n",
    "critical_value = stat.chi2.ppf(1-significance_value,dof)\n",
    "critical_value"
   ]
  },
  {
   "cell_type": "code",
   "execution_count": 126,
   "id": "7dc50481-3cf9-48fe-8c6a-e0c62d1e6f09",
   "metadata": {},
   "outputs": [
    {
     "name": "stdout",
     "output_type": "stream",
     "text": [
      "We reject the null hypothesis\n"
     ]
    }
   ],
   "source": [
    "if chi_stats > critical_value:\n",
    "    print(\"We reject the null hypothesis\")\n",
    "else:\n",
    "    print(\"We fail to reject the null hypothesis\")"
   ]
  },
  {
   "cell_type": "code",
   "execution_count": 127,
   "id": "acbaa744-644f-4ca0-9ad5-2aa47b3f3dc6",
   "metadata": {},
   "outputs": [],
   "source": [
    "# Q10. A study was conducted to determine if the proportion of people who prefer milk chocolate, dark\n",
    "# chocolate, or white chocolate is different in the U.S. versus the U.K. A random sample of 500 people from\n",
    "# the U.S. and a random sample of 500 people from the U.K. were surveyed. The results are shown in the\n",
    "# contingency table below. Conduct a chi-square test for independence to determine if there is a significant\n",
    "# association between chocolate preference and country of origin.\n",
    "#                Milk Chocolate    Dark Chocolate    White Chocolate\n",
    "#  U.S. (n=500)       200           150                 150\n",
    "#  U.K. (n=500)       225           175                 100\n",
    "# Use a significance level of 0.01.\n",
    "\n",
    "import scipy.stats as stat\n",
    "observed_data = [[200,150,150],[225,175,100]]"
   ]
  },
  {
   "cell_type": "code",
   "execution_count": 128,
   "id": "ce3b21c7-5eb3-427e-a5bf-baf254e6b656",
   "metadata": {},
   "outputs": [],
   "source": [
    "chi_stats, pvalue, dof, expected_data = stat.chi2_contingency(observed_data)"
   ]
  },
  {
   "cell_type": "code",
   "execution_count": 129,
   "id": "d32d1212-c9a4-40c1-b876-5d8eda64452b",
   "metadata": {},
   "outputs": [
    {
     "data": {
      "text/plain": [
       "13.393665158371041"
      ]
     },
     "execution_count": 129,
     "metadata": {},
     "output_type": "execute_result"
    }
   ],
   "source": [
    "chi_stats "
   ]
  },
  {
   "cell_type": "code",
   "execution_count": 130,
   "id": "572d7c2a-0993-4818-9fed-f8661b4f53e1",
   "metadata": {},
   "outputs": [
    {
     "data": {
      "text/plain": [
       "0.0012348168997745918"
      ]
     },
     "execution_count": 130,
     "metadata": {},
     "output_type": "execute_result"
    }
   ],
   "source": [
    "pvalue"
   ]
  },
  {
   "cell_type": "code",
   "execution_count": 131,
   "id": "6ee822c0-e2e4-4030-8e5c-6ac16d0483e8",
   "metadata": {},
   "outputs": [
    {
     "data": {
      "text/plain": [
       "2"
      ]
     },
     "execution_count": 131,
     "metadata": {},
     "output_type": "execute_result"
    }
   ],
   "source": [
    "dof"
   ]
  },
  {
   "cell_type": "code",
   "execution_count": 132,
   "id": "5e6afab4-e6b4-4d71-b79f-f4eed9f99fdc",
   "metadata": {},
   "outputs": [
    {
     "data": {
      "text/plain": [
       "array([[212.5, 162.5, 125. ],\n",
       "       [212.5, 162.5, 125. ]])"
      ]
     },
     "execution_count": 132,
     "metadata": {},
     "output_type": "execute_result"
    }
   ],
   "source": [
    "expected_data"
   ]
  },
  {
   "cell_type": "code",
   "execution_count": 135,
   "id": "b80bbf2a-9481-4692-a251-e5d5f6d89bb9",
   "metadata": {},
   "outputs": [
    {
     "data": {
      "text/plain": [
       "9.21034037197618"
      ]
     },
     "execution_count": 135,
     "metadata": {},
     "output_type": "execute_result"
    }
   ],
   "source": [
    "significance_value = 0.01\n",
    "critical_value = stat.chi2.ppf(1-significance_value,dof)\n",
    "critical_value"
   ]
  },
  {
   "cell_type": "code",
   "execution_count": 136,
   "id": "c814e4e2-fac2-4d26-8d48-761adaf5a3d0",
   "metadata": {},
   "outputs": [
    {
     "name": "stdout",
     "output_type": "stream",
     "text": [
      "We reject the null hypothesis\n"
     ]
    }
   ],
   "source": [
    "if chi_stats > critical_value:\n",
    "    print(\"We reject the null hypothesis\")\n",
    "else:\n",
    "    print(\"We fail to reject the null hypothesis\")"
   ]
  },
  {
   "cell_type": "code",
   "execution_count": 143,
   "id": "e55afdbc-82f3-4351-b9e9-4174ba8bf4b8",
   "metadata": {},
   "outputs": [
    {
     "name": "stdout",
     "output_type": "stream",
     "text": [
      "The T statistics is : 1.0954451150103321\n",
      "The critical value is : 2.045229642132703\n",
      "We fail to reject the null hypothesis\n"
     ]
    }
   ],
   "source": [
    "# Q11. A random sample of 30 people was selected from a population with an unknown mean and standard\n",
    "# deviation. The sample mean was found to be 72 and the sample standard deviation was found to be 10.\n",
    "# Conduct a hypothesis test to determine if the population mean is significantly different from 70. Use a\n",
    "# significance level of 0.05.\n",
    "\n",
    "import scipy.stats as stat\n",
    "\n",
    "def calculate(sample_size,sample_mean,sample_stand_dev,population_mean,significance_value):\n",
    "    dof = sample_size - 1\n",
    "    \n",
    "    t_stats = (sample_mean - population_mean)/(sample_stand_dev/math.sqrt(sample_size))\n",
    "    \n",
    "    critical_value = stat.t.ppf(1-significance_value/2,dof)\n",
    "    \n",
    "    return t_stats,critical_value\n",
    "    \n",
    "sample_size = 30\n",
    "sample_mean = 72\n",
    "sample_stand_dev = 10\n",
    "population_mean = 70\n",
    "significance_value = 0.05\n",
    "t_stats,critical_value = calculate(sample_size,sample_mean,sample_stand_dev,population_mean,significance_value)\n",
    "print(\"The T statistics is :\",t_stats)\n",
    "print(\"The critical value is :\",critical_value)\n",
    "\n",
    "if t_stats > critical_value:\n",
    "    print(\"We reject the null hypothesis\")\n",
    "else:\n",
    "    print(\"We fail to reject the null hypothesis\")"
   ]
  },
  {
   "cell_type": "code",
   "execution_count": null,
   "id": "e26a96c8-d41f-4d6b-9135-e42bb27ea576",
   "metadata": {},
   "outputs": [],
   "source": []
  },
  {
   "cell_type": "code",
   "execution_count": null,
   "id": "3ee5c5c2-d7a6-4cde-8ff0-923ad3e3fe18",
   "metadata": {},
   "outputs": [],
   "source": []
  },
  {
   "cell_type": "code",
   "execution_count": null,
   "id": "50f87d2e-84f6-4ebd-8f3a-aa3dc8c6b457",
   "metadata": {},
   "outputs": [],
   "source": []
  },
  {
   "cell_type": "code",
   "execution_count": null,
   "id": "f6b3fac8-772c-4bac-ab55-9ac9ab7ca6c4",
   "metadata": {},
   "outputs": [],
   "source": []
  },
  {
   "cell_type": "code",
   "execution_count": null,
   "id": "a9008b9c-9932-462e-925d-ec7615a6d54a",
   "metadata": {},
   "outputs": [],
   "source": []
  }
 ],
 "metadata": {
  "kernelspec": {
   "display_name": "Python 3 (ipykernel)",
   "language": "python",
   "name": "python3"
  },
  "language_info": {
   "codemirror_mode": {
    "name": "ipython",
    "version": 3
   },
   "file_extension": ".py",
   "mimetype": "text/x-python",
   "name": "python",
   "nbconvert_exporter": "python",
   "pygments_lexer": "ipython3",
   "version": "3.10.8"
  }
 },
 "nbformat": 4,
 "nbformat_minor": 5
}
